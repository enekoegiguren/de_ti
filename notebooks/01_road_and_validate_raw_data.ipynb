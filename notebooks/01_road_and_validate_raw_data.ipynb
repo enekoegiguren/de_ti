{
 "cells": [
  {
   "cell_type": "code",
   "execution_count": 6,
   "metadata": {},
   "outputs": [],
   "source": [
    "from pathlib import Path\n",
    "import requests\n",
    "\n",
    "def download_file_data_gouv() -> Path:\n",
    "    \n",
    "    URL = 'https://www.data.gouv.fr/fr/datasets/r/3ce290bf-07ec-4d63-b12b-d0496193a535'\n",
    "    response= requests.get(URL)\n",
    "    \n",
    "    if response.status_code ==200:\n",
    "        path = f'../data/raw/data_gouv.csv'\n",
    "        open(path, \"wb\").write(response.content)\n",
    "        return path\n",
    "    else:\n",
    "        raise Exception(f'{URL} is not available')\n",
    "    \n",
    "    \n",
    "def download_file_open_data_soft() -> Path:\n",
    "    URL = 'https://public.opendatasoft.com/api/explore/v2.1/catalog/datasets/hebergements-classes/exports/csv?lang=fr&timezone=Europe%2FBerlin&use_labels=true&delimiter=%3B'\n",
    "    response = requests.get(URL)\n",
    "    \n",
    "    \n",
    "    if response.status_code ==200:\n",
    "        path = f'../data/raw/data_open_data_soft.csv'\n",
    "        open(path, \"wb\").write(response.content)\n",
    "        return path\n",
    "    else:\n",
    "        raise Exception(f'{URL} is not available')"
   ]
  },
  {
   "cell_type": "code",
   "execution_count": 5,
   "metadata": {},
   "outputs": [
    {
     "data": {
      "text/plain": [
       "'../data/raw/data_gouv.csv'"
      ]
     },
     "execution_count": 5,
     "metadata": {},
     "output_type": "execute_result"
    }
   ],
   "source": [
    "download_file_data_gouv()"
   ]
  },
  {
   "cell_type": "code",
   "execution_count": 7,
   "metadata": {},
   "outputs": [
    {
     "data": {
      "text/plain": [
       "'../data/raw/data_open_data_soft.csv'"
      ]
     },
     "execution_count": 7,
     "metadata": {},
     "output_type": "execute_result"
    }
   ],
   "source": [
    "download_file_open_data_soft()"
   ]
  }
 ],
 "metadata": {
  "kernelspec": {
   "display_name": ".venv",
   "language": "python",
   "name": "python3"
  },
  "language_info": {
   "codemirror_mode": {
    "name": "ipython",
    "version": 3
   },
   "file_extension": ".py",
   "mimetype": "text/x-python",
   "name": "python",
   "nbconvert_exporter": "python",
   "pygments_lexer": "ipython3",
   "version": "3.10.11"
  }
 },
 "nbformat": 4,
 "nbformat_minor": 2
}
